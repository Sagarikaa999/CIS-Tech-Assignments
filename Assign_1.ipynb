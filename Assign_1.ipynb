{
 "cells": [
  {
   "cell_type": "code",
   "execution_count": 2,
   "id": "736cf83d",
   "metadata": {},
   "outputs": [],
   "source": [
    "# Given a list with first names and another list with last names. Combine the lists such that the Full name is present.\n",
    "\n",
    "first_names = ['Lily','Hana','Pammi','Stacy','Sanya']\n",
    "last_names = ['Murad','Scott','Lansly','Otto']\n",
    "\n",
    "full_names = [first + \" \" + last for first, last in zip(first_names, last_names)]"
   ]
  },
  {
   "cell_type": "code",
   "execution_count": 3,
   "id": "ffe7dbf7",
   "metadata": {},
   "outputs": [
    {
     "data": {
      "text/plain": [
       "['Lily Murad', 'Hana Scott', 'Pammi Lansly', 'Stacy Otto']"
      ]
     },
     "execution_count": 3,
     "metadata": {},
     "output_type": "execute_result"
    }
   ],
   "source": [
    "full_names"
   ]
  },
  {
   "cell_type": "code",
   "execution_count": null,
   "id": "60ea64f7",
   "metadata": {},
   "outputs": [],
   "source": []
  }
 ],
 "metadata": {
  "kernelspec": {
   "display_name": "Python 3 (ipykernel)",
   "language": "python",
   "name": "python3"
  },
  "language_info": {
   "codemirror_mode": {
    "name": "ipython",
    "version": 3
   },
   "file_extension": ".py",
   "mimetype": "text/x-python",
   "name": "python",
   "nbconvert_exporter": "python",
   "pygments_lexer": "ipython3",
   "version": "3.9.12"
  }
 },
 "nbformat": 4,
 "nbformat_minor": 5
}
