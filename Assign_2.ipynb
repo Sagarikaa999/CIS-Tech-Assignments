{
 "cells": [
  {
   "cell_type": "code",
   "execution_count": 1,
   "id": "78ce3878",
   "metadata": {},
   "outputs": [],
   "source": [
    "def dates(d1,q):\n",
    "    dict_dates = {}\n",
    "    present_year = d1[0:4]\n",
    "    present_month = d1[4:]\n",
    "    if present_month=='01':\n",
    "        previous_month = '12'\n",
    "        present_year = str(int(present_year)-1)\n",
    "    else:\n",
    "        previous_month = str(int(present_month) - 1)\n",
    "        if len(previous_month)==1:\n",
    "            previous_month = '0' + previous_month\n",
    "    dict_dates['prev_month'] = present_year + previous_month\n",
    "    \n",
    "    present_year = d1[0:4]\n",
    "    qtr = q\n",
    "    dict_dates['current_qtr'] = qtr +'_'+present_year\n",
    "    \n",
    "    if qtr=='Q1':\n",
    "        qtr_1 = 'Q4'\n",
    "        year = str(int(present_year)-1)\n",
    "    else:\n",
    "        qtr_1 = 'Q'+str(int(qtr[1])-1)\n",
    "        year = present_year\n",
    "    dict_dates['previous_qtr'] = qtr_1 +'_'+year  \n",
    "    \n",
    "    present_year = d1[0:4]\n",
    "    next_year = str(int(present_year)+1)\n",
    "    present_month = d1[4:]\n",
    "    next_month = str((int(present_month)+11)%12)\n",
    "    if len(next_month)==1:\n",
    "        next_month = '0'+next_month\n",
    "    \n",
    "    dict_dates['future_month'] = next_year + next_month  \n",
    "    \n",
    "    return dict_dates"
   ]
  },
  {
   "cell_type": "code",
   "execution_count": 2,
   "id": "61eac5fa",
   "metadata": {},
   "outputs": [
    {
     "name": "stdout",
     "output_type": "stream",
     "text": [
      "{'prev_month': '202002', 'current_qtr': 'Q3_2020', 'previous_qtr': 'Q2_2020', 'future_month': '202102'}\n"
     ]
    }
   ],
   "source": [
    "print(dates('202003','Q3'))"
   ]
  },
  {
   "cell_type": "code",
   "execution_count": null,
   "id": "6e6b944e",
   "metadata": {},
   "outputs": [],
   "source": []
  }
 ],
 "metadata": {
  "kernelspec": {
   "display_name": "Python 3 (ipykernel)",
   "language": "python",
   "name": "python3"
  },
  "language_info": {
   "codemirror_mode": {
    "name": "ipython",
    "version": 3
   },
   "file_extension": ".py",
   "mimetype": "text/x-python",
   "name": "python",
   "nbconvert_exporter": "python",
   "pygments_lexer": "ipython3",
   "version": "3.9.12"
  }
 },
 "nbformat": 4,
 "nbformat_minor": 5
}
